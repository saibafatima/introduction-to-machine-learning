{
 "cells": [
  {
   "cell_type": "code",
   "execution_count": 1,
   "id": "d36f8dae-9fb0-4524-bc65-b44e716321ce",
   "metadata": {},
   "outputs": [
    {
     "ename": "SyntaxError",
     "evalue": "unmatched ')' (2902265674.py, line 3)",
     "output_type": "error",
     "traceback": [
      "\u001b[0;36m  Cell \u001b[0;32mIn[1], line 3\u001b[0;36m\u001b[0m\n\u001b[0;31m    C) Artificial Intelligence (AI) D) Machine Learning (ML) I) Deep Learning (DL) DS) Data Science (DS)\u001b[0m\n\u001b[0m     ^\u001b[0m\n\u001b[0;31mSyntaxError\u001b[0m\u001b[0;31m:\u001b[0m unmatched ')'\n"
     ]
    }
   ],
   "source": [
    "Q1: Explain the following with an example:\n",
    "\n",
    "C) Artificial Intelligence (AI) D) Machine Learning (ML) I) Deep Learning (DL) DS) Data Science (DS)\n",
    "\n",
    "\n",
    "C) Artificial Intelligence (AI): AI refers to the broader field of research and development aimed at creating machines that can perform tasks that typically require human intelligence, such as understanding language, recognizing images, and making decisions.\n",
    "\n",
    "Example: Virtual assistants like Siri, Alexa, and Google Assistant are examples of AI in action.\n",
    "\n",
    "D) Machine Learning (ML): ML is a subset of AI that involves training machines to learn from data and make predictions or decisions without being explicitly programmed.\n",
    "\n",
    "Example: Image classification models that can recognize objects in images are an example of ML.\n",
    "\n",
    "I) Deep Learning (DL): DL is a subset of ML that involves the use of neural networks with multiple layers to learn complex patterns in data.\n",
    "\n",
    "Example: Convolutional Neural Networks (CNNs) used for image recognition tasks are an example of DL.\n",
    "\n",
    "DS) Data Science (DS): DS is an interdisciplinary field that combines elements of computer science, statistics, and domain expertise to extract insights and knowledge from data.\n",
    "\n",
    "Example: Analyzing customer purchase behavior to identify trends and recommend products is an example of DS."
   ]
  },
  {
   "cell_type": "code",
   "execution_count": 6,
   "id": "d229e5d9-d7cb-441a-bc4b-d1694c489077",
   "metadata": {},
   "outputs": [
    {
     "ename": "SyntaxError",
     "evalue": "invalid syntax (279639731.py, line 1)",
     "output_type": "error",
     "traceback": [
      "\u001b[0;36m  Cell \u001b[0;32mIn[6], line 1\u001b[0;36m\u001b[0m\n\u001b[0;31m    Q2: What is supervised learning? List some examples of supervised learning.\u001b[0m\n\u001b[0m                           ^\u001b[0m\n\u001b[0;31mSyntaxError\u001b[0m\u001b[0;31m:\u001b[0m invalid syntax\n"
     ]
    }
   ],
   "source": [
    "Q2: What is supervised learning? List some examples of supervised learning.\n",
    "\n",
    "Supervised learning is a type of ML where the model is trained on labeled data, meaning the data is accompanied by the correct output or response. The goal is to learn a mapping between input data and output labels, so the model can make predictions on new, unseen data.\n",
    "\n",
    "Examples of supervised learning:\n",
    "\n",
    "Image classification: training a model to recognize objects in images (e.g., dogs, cats, cars)\n",
    "Sentiment analysis: training a model to classify text as positive, negative, or neutral\n",
    "Regression: training a model to predict continuous values (e.g., housing prices, stock prices)"
   ]
  },
  {
   "cell_type": "code",
   "execution_count": 7,
   "id": "a58b6abe-f6dc-4ee2-bfc1-15bc729c8598",
   "metadata": {},
   "outputs": [
    {
     "ename": "SyntaxError",
     "evalue": "invalid syntax (2452852330.py, line 1)",
     "output_type": "error",
     "traceback": [
      "\u001b[0;36m  Cell \u001b[0;32mIn[7], line 1\u001b[0;36m\u001b[0m\n\u001b[0;31m    Q3: What is unsupervised learning? List some examples of unsupervised learning.\u001b[0m\n\u001b[0m                             ^\u001b[0m\n\u001b[0;31mSyntaxError\u001b[0m\u001b[0;31m:\u001b[0m invalid syntax\n"
     ]
    }
   ],
   "source": [
    "Q3: What is unsupervised learning? List some examples of unsupervised learning.\n",
    "\n",
    "Unsupervised learning is a type of ML where the model is trained on unlabeled data, and the goal is to discover patterns, relationships, or structure in the data.\n",
    "\n",
    "Examples of unsupervised learning:\n",
    "\n",
    "Clustering: grouping similar data points into clusters (e.g., customer segmentation)\n",
    "Dimensionality reduction: reducing the number of features in a dataset (e.g., PCA, t-SNE)\n",
    "Anomaly detection: identifying outliers or unusual data points (e.g., fraud detection)"
   ]
  },
  {
   "cell_type": "code",
   "execution_count": 8,
   "id": "93192cf4-e5c2-4651-90c5-71dd04d3bfe6",
   "metadata": {},
   "outputs": [
    {
     "ename": "SyntaxError",
     "evalue": "invalid syntax (1002553615.py, line 3)",
     "output_type": "error",
     "traceback": [
      "\u001b[0;36m  Cell \u001b[0;32mIn[8], line 3\u001b[0;36m\u001b[0m\n\u001b[0;31m    AI is the broadest field, encompassing ML, DL, and DS. ML is a subset of AI that involves training machines to learn from data. DL is a subset of ML that involves the use of neural networks. DS is an interdisciplinary field that combines elements of computer science, statistics, and domain expertise to extract insights and knowledge from data.\u001b[0m\n\u001b[0m              ^\u001b[0m\n\u001b[0;31mSyntaxError\u001b[0m\u001b[0;31m:\u001b[0m invalid syntax\n"
     ]
    }
   ],
   "source": [
    "Q4: What is the difference between AI, ML, DL, and DS?\n",
    "\n",
    "AI is the broadest field, encompassing ML, DL, and DS. ML is a subset of AI that involves training machines to learn from data. DL is a subset of ML that involves the use of neural networks. DS is an interdisciplinary field that combines elements of computer science, statistics, and domain expertise to extract insights and knowledge from data."
   ]
  },
  {
   "cell_type": "code",
   "execution_count": 1,
   "id": "06279991-a931-463a-a364-5cce61bce1c2",
   "metadata": {},
   "outputs": [
    {
     "ename": "SyntaxError",
     "evalue": "invalid syntax (1598970827.py, line 3)",
     "output_type": "error",
     "traceback": [
      "\u001b[0;36m  Cell \u001b[0;32mIn[1], line 3\u001b[0;36m\u001b[0m\n\u001b[0;31m    Supervised learning involves training on labeled data, unsupervised learning involves training on unlabeled data, and semi-supervised learning involves training on a mix of labeled and unlabeled data.\u001b[0m\n\u001b[0m               ^\u001b[0m\n\u001b[0;31mSyntaxError\u001b[0m\u001b[0;31m:\u001b[0m invalid syntax\n"
     ]
    }
   ],
   "source": [
    "Q5: What are the main differences between supervised, unsupervised, and semi-supervised learning?\n",
    "\n",
    "Supervised learning involves training on labeled data, unsupervised learning involves training on unlabeled data, and semi-supervised learning involves training on a mix of labeled and unlabeled data."
   ]
  },
  {
   "cell_type": "code",
   "execution_count": 2,
   "id": "cb7cb731-e01b-41a9-86eb-5de5386c414d",
   "metadata": {},
   "outputs": [
    {
     "ename": "SyntaxError",
     "evalue": "unterminated string literal (detected at line 6) (3871229537.py, line 6)",
     "output_type": "error",
     "traceback": [
      "\u001b[0;36m  Cell \u001b[0;32mIn[2], line 6\u001b[0;36m\u001b[0m\n\u001b[0;31m    Validation set (e.g., 20% of the data): used to evaluate the model's performance during training and hyperparameter tuning\u001b[0m\n\u001b[0m                                                                      ^\u001b[0m\n\u001b[0;31mSyntaxError\u001b[0m\u001b[0;31m:\u001b[0m unterminated string literal (detected at line 6)\n"
     ]
    }
   ],
   "source": [
    "Q6: What is train, test, and validation split? Explain the importance of each term.\n",
    "\n",
    "In ML, a dataset is typically split into three parts:\n",
    "\n",
    "Training set (e.g., 60% of the data): used to train the model\n",
    "Validation set (e.g., 20% of the data): used to evaluate the model's performance during training and hyperparameter tuning\n",
    "Testing set (e.g., 20% of the data): used to evaluate the model's performance on unseen data after training is complete\n",
    "Each split is important because:\n",
    "\n",
    "The training set is used to learn the patterns in the data.\n",
    "The validation set is used to prevent overfitting and select the best hyperparameters.\n",
    "The testing set is used to evaluate the model's performance on new, unseen data."
   ]
  },
  {
   "cell_type": "code",
   "execution_count": 3,
   "id": "6af58829-b748-4b57-8c4c-48c0ff5dbeeb",
   "metadata": {},
   "outputs": [
    {
     "ename": "SyntaxError",
     "evalue": "invalid syntax (3933660128.py, line 3)",
     "output_type": "error",
     "traceback": [
      "\u001b[0;36m  Cell \u001b[0;32mIn[3], line 3\u001b[0;36m\u001b[0m\n\u001b[0;31m    Unsupervised learning can be used in anomaly detection by training a model on normal data and identifying data points that do not conform to the learned patterns or distribution. This can be done using techniques such as:\u001b[0m\n\u001b[0m                 ^\u001b[0m\n\u001b[0;31mSyntaxError\u001b[0m\u001b[0;31m:\u001b[0m invalid syntax\n"
     ]
    }
   ],
   "source": [
    "Q7: How can unsupervised learning be used in anomaly detection?\n",
    "\n",
    "Unsupervised learning can be used in anomaly detection by training a model on normal data and identifying data points that do not conform to the learned patterns or distribution. This can be done using techniques such as:\n",
    "\n",
    "Density-based methods (e.g., DBSCAN)\n",
    "Distance-based methods (e.g., k-NN)\n",
    "Statistical methods (e.g., mean and standard deviation)"
   ]
  },
  {
   "cell_type": "code",
   "execution_count": null,
   "id": "fdf35c39-7a5e-4dae-b18e-babb8eb181e9",
   "metadata": {},
   "outputs": [],
   "source": [
    "Q8: List some commonly used supervised learning algorithms and unsupervised learning algorithms.\n",
    "\n",
    "Supervised learning algorithms:\n",
    "\n",
    "Linear Regression\n",
    "Logistic Regression\n",
    "Decision Trees\n",
    "Random Forest\n",
    "Support Vector Machines (SVMs)\n",
    "Unsupervised learning algorithms:\n",
    "\n",
    "K-Means Clustering\n",
    "Hierarchical Clustering\n",
    "Principal Component Analysis (PCA)"
   ]
  }
 ],
 "metadata": {
  "kernelspec": {
   "display_name": "Python 3 (ipykernel)",
   "language": "python",
   "name": "python3"
  },
  "language_info": {
   "codemirror_mode": {
    "name": "ipython",
    "version": 3
   },
   "file_extension": ".py",
   "mimetype": "text/x-python",
   "name": "python",
   "nbconvert_exporter": "python",
   "pygments_lexer": "ipython3",
   "version": "3.10.8"
  }
 },
 "nbformat": 4,
 "nbformat_minor": 5
}
